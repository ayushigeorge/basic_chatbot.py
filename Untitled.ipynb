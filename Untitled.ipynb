{
 "cells": [
  {
   "cell_type": "code",
   "execution_count": 1,
   "id": "92bf5d1b",
   "metadata": {},
   "outputs": [
    {
     "name": "stdout",
     "output_type": "stream",
     "text": [
      "Requirement already satisfied: nltk in c:\\users\\dell\\.desktop\\lib\\site-packages (3.6.5)\n",
      "Requirement already satisfied: click in c:\\users\\dell\\.desktop\\lib\\site-packages (from nltk) (8.0.3)\n",
      "Requirement already satisfied: joblib in c:\\users\\dell\\.desktop\\lib\\site-packages (from nltk) (1.1.0)\n",
      "Requirement already satisfied: regex>=2021.8.3 in c:\\users\\dell\\.desktop\\lib\\site-packages (from nltk) (2021.8.3)\n",
      "Requirement already satisfied: tqdm in c:\\users\\dell\\.desktop\\lib\\site-packages (from nltk) (4.62.3)\n",
      "Requirement already satisfied: colorama in c:\\users\\dell\\.desktop\\lib\\site-packages (from click->nltk) (0.4.4)\n",
      "Note: you may need to restart the kernel to use updated packages.\n"
     ]
    }
   ],
   "source": [
    "pip install nltk"
   ]
  },
  {
   "cell_type": "code",
   "execution_count": null,
   "id": "622dab9a",
   "metadata": {},
   "outputs": [],
   "source": [
    "from nltk.chat.util import Chat, reflections\n",
    "\n",
    "pairs =[\n",
    "\t['my name is (.*)', ['Hello ! % 1']],\n",
    "\t['(hi|hello|hey|holla|hola)', ['Hey there !', 'Hi there !', 'Hey !']],\n",
    "\t['(.*) your name ?', ['My name is George']],\n",
    "\t['(.*) do you do ?', ['I will help you with a wide range of options !']],\n",
    "\t['(.*) created you ?', ['Ayushi George created me using python and NLTK']]\n",
    "]\n",
    "\n",
    "chat = Chat(pairs, reflections)\n",
    "chat.converse()\n"
   ]
  },
  {
   "cell_type": "code",
   "execution_count": null,
   "id": "caae4b4c",
   "metadata": {},
   "outputs": [],
   "source": []
  }
 ],
 "metadata": {
  "kernelspec": {
   "display_name": "Python 3 (ipykernel)",
   "language": "python",
   "name": "python3"
  },
  "language_info": {
   "codemirror_mode": {
    "name": "ipython",
    "version": 3
   },
   "file_extension": ".py",
   "mimetype": "text/x-python",
   "name": "python",
   "nbconvert_exporter": "python",
   "pygments_lexer": "ipython3",
   "version": "3.9.7"
  }
 },
 "nbformat": 4,
 "nbformat_minor": 5
}
